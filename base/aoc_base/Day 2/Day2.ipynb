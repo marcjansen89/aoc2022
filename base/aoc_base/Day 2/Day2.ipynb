{
 "cells": [
  {
   "cell_type": "code",
   "execution_count": null,
   "metadata": {},
   "outputs": [],
   "source": [
    "with open('input.txt', 'r') as file:\n",
    "    data = file.readlines()"
   ]
  },
  {
   "cell_type": "markdown",
   "metadata": {},
   "source": [
    "The first column is what your opponent is going to play: \n",
    "A for Rock, \n",
    "B for Paper,\n",
    "C for Scissors. The second column--\" Suddenly, the Elf is called away to help with someone's tent.\n",
    "\n",
    "The second column, you reason, must be what you should play in response: \n",
    "X for Rock, \n",
    "Y for Paper, \n",
    "Z for Scissors  \n",
    "\n",
    "The score for a single round is the score for the shape you selected (1 for Rock, 2 for Paper, and 3 for Scissors) plus the score for the outcome of the round \n",
    "(0 if you lost, 3 if the round was a draw, and 6 if you won).\n",
    "\n",
    "Winning every time would be suspicious, so the responses must have been carefully chosen.\n",
    "\n",
    "The score for a single round is the score for the shape you selected (1 for Rock, 2 for Paper, and 3 for Scissors) plus the score for the outcome of the round (0 if you lost, 3 if the round was a draw, and 6 if you won)."
   ]
  },
  {
   "cell_type": "code",
   "execution_count": null,
   "metadata": {},
   "outputs": [],
   "source": [
    "score = 0\n",
    "\n",
    "for line in data:\n",
    "    line = line.replace('\\n', '')\n",
    "    if line[0] == \"A\":  # tegenstander speelt Rock\n",
    "        if line[2] == \"X\":  # wij spelen rock\n",
    "            score += 1\n",
    "            # gelijk spel\n",
    "            score += 3\n",
    "        if line[2] == \"Y\":  # wij spelen paper\n",
    "            score += 2\n",
    "            # wij winnen ook nog eens\n",
    "            score += 6\n",
    "        if line[2] == \"Z\":  # wij spelen scissors\n",
    "            score += 3\n",
    "            # wij verliezen\n",
    "\n",
    "    elif line[0] == \"B\":  # tegenstander speelt Papier\n",
    "        if line[2] == \"X\":  # wij spelen rock\n",
    "            score += 1\n",
    "            # wij verliezen\n",
    "        if line[2] == \"Y\":  # wij spelen paper\n",
    "            score += 2\n",
    "            # gelijk spel\n",
    "            score += 3\n",
    "        if line[2] == \"Z\":  # wij spelen scissors\n",
    "            score += 3\n",
    "            #wij winnen\n",
    "            score += 6\n",
    "    \n",
    "    elif line[0] == \"C\": #opponent plays Scissors\n",
    "      if line[2] == \"X\": #wij spelen rock\n",
    "        score += 1\n",
    "        #wij winnen\n",
    "        score += 6\n",
    "      if line[2] == \"Y\": #wij spelen paper\n",
    "        score += 2\n",
    "        #wij verliezen\n",
    "      if line[2] == \"Z\": #wij spelen scissors\n",
    "        score += 3\n",
    "        #gelijk spel\n",
    "        score +=3\n",
    "\n",
    "print(score)\n"
   ]
  },
  {
   "cell_type": "markdown",
   "metadata": {},
   "source": [
    "\"Anyway, the second column says how the round needs to end: X means you need to lose, Y means you need to end the round in a draw, and Z means you need to win. Good luck!\"\n",
    "\n",
    "The total score is still calculated in the same way, but now you need to figure out what shape to choose so the round ends as indicated."
   ]
  },
  {
   "cell_type": "code",
   "execution_count": null,
   "metadata": {},
   "outputs": [],
   "source": [
    "secondscore = 0\n",
    "\n",
    "for line in data:\n",
    "    line = line.replace('\\n', '')\n",
    "    if line[0] == \"A\":  # tegenstander speelt Rock\n",
    "        if line[2] == \"X\":\n",
    "            # we moeten verliezen\n",
    "            # dus 0 punten voor verlies en drie punten voor schaar\n",
    "            secondscore += 3\n",
    "        if line[2] == \"Y\":\n",
    "            # we moeten gelijkspelen\n",
    "            # dus drie punten voor gelijkspel en 1 voor steen\n",
    "            secondscore += 4\n",
    "        if line[2] == \"Z\":\n",
    "            # we moeten winnen\n",
    "            # 6 punten voor het winnen en 2 voor papier\n",
    "            secondscore += 8\n",
    "\n",
    "    elif line[0] == \"B\":  # tegenstander speelt Papier\n",
    "        if line[2] == \"X\":\n",
    "            # we moeten verliezen\n",
    "            # dus 0 punten voor verlies en 1 voor steen\n",
    "            secondscore += 1\n",
    "        if line[2] == \"Y\":\n",
    "            # we moeten gelijkspelen\n",
    "            # dus 3 voor gelijkspel en 2 voor papier\n",
    "            secondscore += 5\n",
    "        if line[2] == \"Z\":\n",
    "            # we moeten winnen\n",
    "            # dus 6 voor winst en 3 voor schaar\n",
    "            secondscore += 9\n",
    "\n",
    "    elif line[0] == \"C\":  # tegenstander speelt Schaar\n",
    "        if line[2] == \"X\":\n",
    "            # we moeten verliezen\n",
    "            # 0 voor verlies en 2 voor papier\n",
    "            secondscore += 2\n",
    "        if line[2] == \"Y\":\n",
    "            # we moeten gelijkspelen\n",
    "            # 3 voor gelijk en 3 voor schaar\n",
    "            secondscore += 6\n",
    "        if line[2] == \"Z\":\n",
    "            # we moeten winnen\n",
    "            # 6 voor winst en 1 voor steen\n",
    "            secondscore +=7\n",
    "\n",
    "print(secondscore)"
   ]
  },
  {
   "cell_type": "code",
   "execution_count": null,
   "metadata": {},
   "outputs": [],
   "source": []
  }
 ],
 "metadata": {
  "kernelspec": {
   "display_name": "Python 3.11.0 64-bit",
   "language": "python",
   "name": "python3"
  },
  "language_info": {
   "codemirror_mode": {
    "name": "ipython",
    "version": 3
   },
   "file_extension": ".py",
   "mimetype": "text/x-python",
   "name": "python",
   "nbconvert_exporter": "python",
   "pygments_lexer": "ipython3",
   "version": "3.11.0"
  },
  "orig_nbformat": 4,
  "vscode": {
   "interpreter": {
    "hash": "5238573367df39f7286bb46f9ff5f08f63a01a80960060ce41e3c79b190280fa"
   }
  }
 },
 "nbformat": 4,
 "nbformat_minor": 2
}
