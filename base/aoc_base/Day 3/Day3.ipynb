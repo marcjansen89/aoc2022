{
 "cells": [
  {
   "cell_type": "code",
   "execution_count": null,
   "metadata": {},
   "outputs": [],
   "source": [
    "with open('input.txt', 'r') as file:\n",
    "    data = file.readlines()"
   ]
  },
  {
   "cell_type": "markdown",
   "metadata": {},
   "source": [
    "A given rucksack always has the same number of items in each of its two compartments, so the first half of the characters represent items in the first compartment, while the second half of the characters represent items in the second compartment.\n",
    "\n",
    "To help prioritize item rearrangement, every item type can be converted to a priority:\n",
    "\n",
    "Lowercase item types a through z have priorities 1 through 26.\n",
    "Uppercase item types A through Z have priorities 27 through 52.\n",
    "\n",
    "Find the item type that appears in both compartments of each rucksack. What is the sum of the priorities of those item types?"
   ]
  },
  {
   "cell_type": "code",
   "execution_count": null,
   "metadata": {},
   "outputs": [],
   "source": [
    "from difflib import Differ\n",
    "import string\n",
    "\n",
    "d = Differ()\n",
    "\n",
    "prios_lower = dict()\n",
    "prios_upper = dict()\n",
    "\n",
    "# Lowercase item types a through z have priorities 1 through 26.\n",
    "for index, letter in enumerate(string.ascii_lowercase):\n",
    "    prios_lower[letter] = index + 1\n",
    "\n",
    "# Uppercase item types A through Z have priorities 27 through 52.\n",
    "for index, letter in enumerate(string.ascii_uppercase):\n",
    "    prios_upper[letter] = index + 27"
   ]
  },
  {
   "cell_type": "code",
   "execution_count": null,
   "metadata": {},
   "outputs": [],
   "source": [
    "score = 0\n",
    "\n",
    "for line in data:\n",
    "    if line != \"\\n\":\n",
    "        contains = []\n",
    "        part1 = slice(0, len(line)//2)\n",
    "        part2 = slice(len(line)//2, len(line))\n",
    "\n",
    "        string1 = line[part1].replace('\\n', '')\n",
    "        string2 = line[part2].replace('\\n', '')\n",
    "\n",
    "        diffcheck = list(d.compare(string1, string2))\n",
    "\n",
    "        for entry in diffcheck:\n",
    "            if entry not in contains:\n",
    "                if \"+\" not in entry and \"-\" not in entry:\n",
    "                    # deze komt voor in beide delen en hebben we nog niet meegeteld.\n",
    "                    contains.append(entry)\n",
    "                    if entry.isupper():\n",
    "                        score += prios_upper[entry.strip()]\n",
    "                    if entry.islower():\n",
    "                        score += prios_lower[entry.strip()]\n",
    "\n",
    "print(score)\n"
   ]
  },
  {
   "cell_type": "markdown",
   "metadata": {},
   "source": [
    "Every set of three lines in your list corresponds to a single group\n",
    "the badge is the only item type carried by all three Elves. That is, if a group's badge is item type B, then all three Elves will have item type B somewhere in their rucksack, and at most two of the Elves will be carrying any other item type.\n",
    "\n",
    "Priorities for these items must still be found to organize the sticker attachment efforts: here, they are 18 (r) for the first group and 52 (Z) for the second group. The sum of these is 70.\n",
    "Find the item type that corresponds to the badges of each three-Elf group. What is the sum of the priorities of those item types?\n"
   ]
  },
  {
   "cell_type": "code",
   "execution_count": null,
   "metadata": {},
   "outputs": [],
   "source": [
    "score = 0\n",
    "\n",
    "group = []\n",
    "groupcontains = []\n",
    "counter = 0 \n",
    "\n",
    "for i in range(len(data)):\n",
    "    if data[i] != \"\\n\":\n",
    "        group.append(data[i].strip())\n",
    "        counter +=1\n",
    "\n",
    "    if counter == 3:\n",
    "        common=list(set(group[0])&set(group[1])&set(group[2]))\n",
    "        print(group, common)\n",
    "        check = common[0]\n",
    "        if check.isupper():\n",
    "            score += prios_upper[check.strip()]\n",
    "        if check.islower():\n",
    "            score += prios_lower[check.strip()]\n",
    "        \n",
    "        counter = 0\n",
    "        groupcontains = []\n",
    "        group = []\n",
    "\n",
    "\n",
    "print(score)\n"
   ]
  },
  {
   "cell_type": "code",
   "execution_count": null,
   "metadata": {},
   "outputs": [],
   "source": []
  }
 ],
 "metadata": {
  "kernelspec": {
   "display_name": "Python 3.11.0 64-bit",
   "language": "python",
   "name": "python3"
  },
  "language_info": {
   "codemirror_mode": {
    "name": "ipython",
    "version": 3
   },
   "file_extension": ".py",
   "mimetype": "text/x-python",
   "name": "python",
   "nbconvert_exporter": "python",
   "pygments_lexer": "ipython3",
   "version": "3.11.0"
  },
  "orig_nbformat": 4,
  "vscode": {
   "interpreter": {
    "hash": "5238573367df39f7286bb46f9ff5f08f63a01a80960060ce41e3c79b190280fa"
   }
  }
 },
 "nbformat": 4,
 "nbformat_minor": 2
}
