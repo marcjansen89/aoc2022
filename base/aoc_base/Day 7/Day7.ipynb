{
 "cells": [
  {
   "cell_type": "code",
   "execution_count": null,
   "metadata": {},
   "outputs": [],
   "source": [
    "with open(\"input.txt\", \"r\") as file:\n",
    "    data = file.readlines()"
   ]
  },
  {
   "cell_type": "markdown",
   "metadata": {},
   "source": [
    "Find all of the directories with a total size of at most 100000. What is the sum of the total sizes of those directories?\n",
    "MJ: deze puzzel kon ik niet oplossen zonder hulp van: https://raw.githubusercontent.com/junefish/adventofcode/main/adventofcode2022/day7/day7problem1.py en https://raw.githubusercontent.com/junefish/adventofcode/main/adventofcode2022/day7/day7problem2.py"
   ]
  },
  {
   "cell_type": "code",
   "execution_count": null,
   "metadata": {},
   "outputs": [],
   "source": [
    "from collections import defaultdict\n",
    "\n",
    "filepath = []\n",
    "sizes = defaultdict(int)\n",
    "total = 0\n",
    "max = 100000 #maximale grootte\n",
    "\n",
    "for line in data:\n",
    "    line = line.strip()\n",
    "    # change directories\n",
    "    if(line.startswith('$ cd')):\n",
    "        #check wat het laatste in de regel is ([-1])\n",
    "        directory = line.split()[-1]\n",
    "        if(directory == '..'):\n",
    "            #verwijder directory uit de filepath\n",
    "            filepath.pop()\n",
    "        # voeg directory toe aan de filepath\n",
    "        else:\n",
    "            filepath.append(directory)\n",
    "    \n",
    "    # als we een commando hebben dat begint met ls willen we niks doen\n",
    "    elif(line.startswith('$ ls')):\n",
    "        continue\n",
    "    \n",
    "    # anders hebben we een dir commando of de size van een bestand\n",
    "    else:\n",
    "        filesize = line.split()[0]\n",
    "        #check nu of filesize alleen maar nummers zijn, anders hebben we dir gekregen\n",
    "        if(filesize.isdigit()):\n",
    "            filesize = int(filesize)\n",
    "            for i in range(len(filepath)):\n",
    "                sizes['/'.join(filepath[:i+1])] += filesize\n",
    "\n",
    "# tel wat de totale grootte is van alle directories kleiner dan 100000 (max)\n",
    "for key, value in sizes.items():\n",
    "    if(value <= max):\n",
    "        total += value\n",
    "\n",
    "print(total)"
   ]
  },
  {
   "cell_type": "markdown",
   "metadata": {},
   "source": [
    "The total disk space available to the filesystem is 70000000. To run the update, you need unused space of at least 30000000. You need to find a directory you can delete that will free up enough space to run the update.\n",
    "\n",
    "Find the smallest directory that, if deleted, would free up enough space on the filesystem to run the update. What is the total size of that directory?"
   ]
  },
  {
   "cell_type": "code",
   "execution_count": null,
   "metadata": {},
   "outputs": [],
   "source": [
    "from collections import defaultdict\n",
    "\n",
    "filepath = []\n",
    "sizes = defaultdict(int)\n",
    "total = 0\n",
    "max = 100000 #maximale grootte\n",
    "\n",
    "for line in data:\n",
    "    line = line.strip()\n",
    "    # change directories\n",
    "    if(line.startswith('$ cd')):\n",
    "        #check wat het laatste in de regel is ([-1])\n",
    "        directory = line.split()[-1]\n",
    "        if(directory == '..'):\n",
    "            #verwijder directory uit de filepath\n",
    "            filepath.pop()\n",
    "        # voeg directory toe aan de filepath\n",
    "        else:\n",
    "            filepath.append(directory)\n",
    "    \n",
    "    # als we een commando hebben dat begint met ls willen we niks doen\n",
    "    elif(line.startswith('$ ls')):\n",
    "        continue\n",
    "    \n",
    "    # anders hebben we een dir commando of de size van een bestand\n",
    "    else:\n",
    "        filesize = line.split()[0]\n",
    "        #check nu of filesize alleen maar nummers zijn, anders hebben we dir gekregen\n",
    "        if(filesize.isdigit()):\n",
    "            filesize = int(filesize)\n",
    "            for i in range(len(filepath)):\n",
    "                sizes['/'.join(filepath[:i+1])] += filesize\n",
    "\n",
    "total_space = 70000000\n",
    "update = 30000000\n",
    "used_space = sizes['/']\n",
    "free_space = total_space - used_space\n",
    "space_needed = update - free_space\n",
    "\n",
    "# check nu welke directories verwijderd kunnen worden\n",
    "options = []\n",
    "for key,value in sizes.items():\n",
    "    if(value > space_needed): #als de grootte groter is dan de ruimte dat we nodig hebben voegen we hem toe aan de lijst met opties\n",
    "        options.append(value)\n",
    "#de laagste waarde van opties is nu de kleinste folder dat we kunnen verwijderen om genoeg ruimte te maken\n",
    "print(min(options))"
   ]
  }
 ],
 "metadata": {
  "kernelspec": {
   "display_name": "Python 3.11.0 64-bit",
   "language": "python",
   "name": "python3"
  },
  "language_info": {
   "codemirror_mode": {
    "name": "ipython",
    "version": 3
   },
   "file_extension": ".py",
   "mimetype": "text/x-python",
   "name": "python",
   "nbconvert_exporter": "python",
   "pygments_lexer": "ipython3",
   "version": "3.11.0"
  },
  "orig_nbformat": 4,
  "vscode": {
   "interpreter": {
    "hash": "8e7d73baf873fcb0544d9d5961aca3d5ca742b8a85bb33ce7f6f853e6b1187f4"
   }
  }
 },
 "nbformat": 4,
 "nbformat_minor": 2
}
