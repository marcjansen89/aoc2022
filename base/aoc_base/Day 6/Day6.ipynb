{
 "cells": [
  {
   "cell_type": "code",
   "execution_count": null,
   "metadata": {},
   "outputs": [],
   "source": [
    "with open(\"input.txt\", \"r\") as file:\n",
    "    data = file.readline()"
   ]
  },
  {
   "cell_type": "markdown",
   "metadata": {},
   "source": [
    "detects a start-of-packet marker in the datastream. In the protocol being used by the Elves, the start of a packet is indicated by a sequence of four characters that are all different."
   ]
  },
  {
   "cell_type": "code",
   "execution_count": null,
   "metadata": {},
   "outputs": [],
   "source": [
    "for character in range(len(data)):\n",
    "  # als de lengte van een set van de eerst volgende vier karakters nog steeds 4 is dan hebben we 4 unieke karakters\n",
    "  # dus kunnen we het huidige karakter + 4 afdrukken en dat is onze marker\n",
    "   if len(set(data[character:character+4]))==4:\n",
    "    print(character+4)\n",
    "    break # we hoeven alleen de eerste keer dat dit gebeurd te weten\n",
    "\n",
    "\n"
   ]
  },
  {
   "cell_type": "markdown",
   "metadata": {},
   "source": [
    "A start-of-message marker is just like a start-of-packet marker, except it consists of 14 distinct characters rather than 4.\n"
   ]
  },
  {
   "cell_type": "code",
   "execution_count": null,
   "metadata": {},
   "outputs": [],
   "source": [
    "for character in range(len(data)):\n",
    "  # als de lengte van een set van de eerst volgende 14 karakters nog steeds 14 is dan hebben we 14 unieke karakters\n",
    "  # dus kunnen we het huidige karakter + 14 afdrukken en dat is onze marker\n",
    "   if len(set(data[character:character+14]))==14:\n",
    "    print(character+14)\n",
    "    break # we hoeven alleen de eerste keer dat dit gebeurd te weten"
   ]
  },
  {
   "cell_type": "code",
   "execution_count": null,
   "metadata": {},
   "outputs": [],
   "source": []
  }
 ],
 "metadata": {
  "kernelspec": {
   "display_name": "Python 3.11.0 64-bit",
   "language": "python",
   "name": "python3"
  },
  "language_info": {
   "codemirror_mode": {
    "name": "ipython",
    "version": 3
   },
   "file_extension": ".py",
   "mimetype": "text/x-python",
   "name": "python",
   "nbconvert_exporter": "python",
   "pygments_lexer": "ipython3",
   "version": "3.11.0"
  },
  "orig_nbformat": 4,
  "vscode": {
   "interpreter": {
    "hash": "8e7d73baf873fcb0544d9d5961aca3d5ca742b8a85bb33ce7f6f853e6b1187f4"
   }
  }
 },
 "nbformat": 4,
 "nbformat_minor": 2
}
