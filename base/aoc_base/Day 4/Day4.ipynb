{
 "cells": [
  {
   "cell_type": "code",
   "execution_count": null,
   "metadata": {},
   "outputs": [],
   "source": [
    "with open('input.txt', 'r') as file:\n",
    "    data = file.readlines()"
   ]
  },
  {
   "cell_type": "markdown",
   "metadata": {},
   "source": [
    "For example, consider the following list of section assignment pairs:\n",
    "\n",
    "2-4,6-8\n",
    "2-3,4-5\n",
    "5-7,7-9\n",
    "2-8,3-7\n",
    "6-6,4-6\n",
    "2-6,4-8\n",
    "For the first few pairs, this list means:\n",
    "\n",
    "Within the first pair of Elves, the first Elf was assigned sections 2-4 (sections 2, 3, and 4), while the second Elf was assigned sections 6-8 (sections 6, 7, 8).\n",
    "The Elves in the second pair were each assigned two sections.\n",
    "The Elves in the third pair were each assigned three sections: one got sections 5, 6, and 7, while the other also got 7, plus 8 and 9.\n",
    "\n",
    "Some of the pairs have noticed that one of their assignments fully contains the other. For example, 2-8 fully contains 3-7, and 6-6 is fully contained by 4-6. In pairs where one assignment fully contains the other, one Elf in the pair would be exclusively cleaning sections their partner will already be cleaning, so these seem like the most in need of reconsideration. In this example, there are 2 such pairs.\n",
    "\n",
    "In how many assignment pairs does one range fully contain the other?"
   ]
  },
  {
   "cell_type": "code",
   "execution_count": null,
   "metadata": {},
   "outputs": [],
   "source": [
    "overlaps = 0\n",
    "\n",
    "for line in data:\n",
    "    assignments = line.split(\",\")\n",
    "\n",
    "    #maak twee paren\n",
    "    pair1 = assignments[0].replace(\"\\n\", \"\").split(\"-\")\n",
    "    pair2 = assignments[1].replace(\"\\n\", \"\").split(\"-\")\n",
    "\n",
    "    #we hebben een volledige overlap als \n",
    "    #als de eerste waarde van de tweede paar gelijk over groter is als de eerste waarde van het eerste paar EN de tweede waarde van het tweede paar kleiner of gelijk is aan de tweede waarde van het eerste paar\n",
    "    #OF\n",
    "    #als de eerste waarde van het eerste paar groter of gelijk is aan de eerste waarde van het tweede paar EN de tweede waarde van het eerste paar gelijk is aan de tweede waarde van het tweede paar\n",
    "    if int(pair2[0]) >= int(pair1[0]) and int(pair2[1]) <= int(pair1[1]) or int(pair1[0]) >= int(pair2[0]) and int(pair1[1]) <= int(pair2[1]):\n",
    "        print(pair1, \"overlaps with\", pair2)\n",
    "        overlaps +=1\n",
    "\n",
    "\n",
    "print(overlaps)\n"
   ]
  },
  {
   "cell_type": "markdown",
   "metadata": {},
   "source": [
    "It seems like there is still quite a bit of duplicate work planned. Instead, the Elves would like to know the number of pairs that overlap at all."
   ]
  },
  {
   "cell_type": "code",
   "execution_count": null,
   "metadata": {},
   "outputs": [],
   "source": [
    "overlaps = 0\n",
    "\n",
    "def intersec(firstrange, secondrange):\n",
    "    intersects = [value for value in firstrange if value in secondrange]\n",
    "    return intersects\n",
    "\n",
    "for line in data:\n",
    "    assignments = line.split(\",\")\n",
    "    #maak eerst twee paren\n",
    "    pair1 = assignments[0].replace(\"\\n\", \"\").split(\"-\")\n",
    "    pair2 = assignments[1].replace(\"\\n\", \"\").split(\"-\")\n",
    "\n",
    "    #maak integers van elk onderdeel van de paren\n",
    "    pair11 = int(pair1[0])\n",
    "    pair12 = int(pair1[1])\n",
    "\n",
    "    pair21 = int(pair2[0])\n",
    "    pair22 = int(pair2[1])\n",
    "\n",
    "    #maak van elk paar een opgevulde lijst\n",
    "    range1 = [*range(pair11,pair12+1)]\n",
    "    range2 = [*range(pair21,pair22+1)]\n",
    "\n",
    "    #check wat met elkaar snijdt\n",
    "    intersects = intersec(range1, range2)\n",
    "\n",
    "    #als iets hetzelfde is dan weten we genoeg\n",
    "    if len(intersects) > 0:\n",
    "        print('intersects', intersects)\n",
    "        overlaps +=1\n",
    "\n",
    "print(overlaps)"
   ]
  },
  {
   "cell_type": "code",
   "execution_count": null,
   "metadata": {},
   "outputs": [],
   "source": []
  }
 ],
 "metadata": {
  "kernelspec": {
   "display_name": "Python 3.11.0 64-bit",
   "language": "python",
   "name": "python3"
  },
  "language_info": {
   "codemirror_mode": {
    "name": "ipython",
    "version": 3
   },
   "file_extension": ".py",
   "mimetype": "text/x-python",
   "name": "python",
   "nbconvert_exporter": "python",
   "pygments_lexer": "ipython3",
   "version": "3.11.0"
  },
  "orig_nbformat": 4,
  "vscode": {
   "interpreter": {
    "hash": "5238573367df39f7286bb46f9ff5f08f63a01a80960060ce41e3c79b190280fa"
   }
  }
 },
 "nbformat": 4,
 "nbformat_minor": 2
}
