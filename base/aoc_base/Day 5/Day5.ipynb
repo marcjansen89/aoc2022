{
 "cells": [
  {
   "cell_type": "code",
   "execution_count": null,
   "metadata": {},
   "outputs": [],
   "source": [
    "with open(\"input.txt\", \"r\") as file:\n",
    "    data = file.readlines()"
   ]
  },
  {
   "cell_type": "code",
   "execution_count": null,
   "metadata": {},
   "outputs": [],
   "source": [
    "# [W] [V]     [P]\n",
    "# [B] [T]     [C] [B]     [G]\n",
    "# [G] [S]     [V] [H] [N] [T]\n",
    "# [Z] [B] [W] [J] [D] [M] [S]\n",
    "# [R] [C] [N] [N] [F] [W] [C]     [W]\n",
    "# [D] [F] [S] [M] [L] [T] [L] [Z] [Z]\n",
    "# [C] [W] [B] [G] [S] [V] [F] [D] [N]\n",
    "# [V] [G] [C] [Q] [T] [J] [P] [B] [M]\n",
    "#  1   2   3   4   5   6   7   8   9\n",
    "\n",
    "stack1 = [\"W\", \"B\", \"G\", \"Z\", \"R\", \"D\", \"C\", \"V\"]\n",
    "stack2 = [\"V\", \"T\", \"S\", \"B\", \"C\", \"F\", \"W\", \"G\"]\n",
    "stack3 = [\"W\", \"N\", \"S\", \"B\", \"C\"]\n",
    "stack4 = [\"P\", \"C\", \"V\", \"J\", \"N\", \"M\", \"G\", \"Q\"]\n",
    "stack5 = [\"B\", \"H\", \"D\", \"F\", \"L\", \"S\", \"T\"]\n",
    "stack6 = [\"N\", \"M\", \"W\", \"T\", \"V\", \"J\"]\n",
    "stack7 = [\"G\", \"T\", \"S\", \"C\", \"L\", \"F\", \"P\"]\n",
    "stack8 = [\"Z\", \"D\", \"B\"]\n",
    "stack9 = [\"W\", \"Z\", \"N\", \"M\"]\n",
    "\n",
    "\n",
    "def executeCommand(command, amount, source, dest):\n",
    "    for i in range(amount):\n",
    "        print(\"Move \", source[0], \"from \", source, \"to \", dest)\n",
    "        x = source[0] #bewaar de item tijdelijk\n",
    "        source.pop(0) #verwijder item uit originele lijst\n",
    "        dest.insert(0, x) #voeg de item toe aan het begin van de andere lijst (bovenop)\n",
    "\n",
    "\n",
    "for line in data:\n",
    "    command = line.replace(\"\\n\", \"\").split(\" \")\n",
    "    myvars = locals()\n",
    "    # move 2 from 8 to 4\n",
    "    # [0] = move, [1]= aantal, [2] = from [3] = source stack, [4] = to [5] = destination stack\n",
    "    amount = command[1]\n",
    "    sourcestack = myvars['stack'+command[3]]\n",
    "    destinationstack = myvars['stack'+command[5]]\n",
    "    executeCommand(command, int(amount), sourcestack, destinationstack)\n",
    "\n",
    "print(stack1[0], stack2[0], stack3[0], stack4[0],\n",
    "      stack5[0], stack6[0], stack7[0], stack8[0], stack9[0])\n"
   ]
  },
  {
   "cell_type": "code",
   "execution_count": null,
   "metadata": {},
   "outputs": [],
   "source": [
    "# [W] [V]     [P]\n",
    "# [B] [T]     [C] [B]     [G]\n",
    "# [G] [S]     [V] [H] [N] [T]\n",
    "# [Z] [B] [W] [J] [D] [M] [S]\n",
    "# [R] [C] [N] [N] [F] [W] [C]     [W]\n",
    "# [D] [F] [S] [M] [L] [T] [L] [Z] [Z]\n",
    "# [C] [W] [B] [G] [S] [V] [F] [D] [N]\n",
    "# [V] [G] [C] [Q] [T] [J] [P] [B] [M]\n",
    "#  1   2   3   4   5   6   7   8   9\n",
    "\n",
    "stack1 = [\"W\", \"B\", \"G\", \"Z\", \"R\", \"D\", \"C\", \"V\"]\n",
    "stack2 = [\"V\", \"T\", \"S\", \"B\", \"C\", \"F\", \"W\", \"G\"]\n",
    "stack3 = [\"W\", \"N\", \"S\", \"B\", \"C\"]\n",
    "stack4 = [\"P\", \"C\", \"V\", \"J\", \"N\", \"M\", \"G\", \"Q\"]\n",
    "stack5 = [\"B\", \"H\", \"D\", \"F\", \"L\", \"S\", \"T\"]\n",
    "stack6 = [\"N\", \"M\", \"W\", \"T\", \"V\", \"J\"]\n",
    "stack7 = [\"G\", \"T\", \"S\", \"C\", \"L\", \"F\", \"P\"]\n",
    "stack8 = [\"Z\", \"D\", \"B\"]\n",
    "stack9 = [\"W\", \"Z\", \"N\", \"M\"]\n",
    "\n",
    "\n",
    "def executeCommand(command, amount, source, dest):\n",
    "    if amount == 1: #hetzelfde als deel 1\n",
    "        print(\"Move \", source[0], \"from \", source, \"to \", dest)\n",
    "        x = source[0]\n",
    "        source.pop(0)\n",
    "        dest.insert(0, x)\n",
    "    elif amount > 1: #nu moeten we een deel van de stack verplaatsen\n",
    "        x= []\n",
    "        for i in range(amount):\n",
    "            x.append(source[0]) #voeg de benodige items toe aan tijdelijke lijst x\n",
    "            source.pop(0) #verwijder de item uit de originele stack\n",
    "        print(\"Move \", x, \"from \", source, \"to \", dest)\n",
    "        y = list(reversed(x)) #nu draaien we de tijdelijke array om\n",
    "        for entry in y:\n",
    "            dest.insert(0,entry)\n",
    "        print(dest)\n",
    "\n",
    "\n",
    "for line in data:\n",
    "    command = line.replace(\"\\n\", \"\").split(\" \")\n",
    "    myvars = locals()\n",
    "    # move 2 from 8 to 4\n",
    "    # [0] = move, [1]= aantal, [2] = from [3] = source stack, [4] = to [5] = destination stack\n",
    "    amount = command[1]\n",
    "    sourcestack = myvars['stack'+command[3]]\n",
    "    destinationstack = myvars['stack'+command[5]]\n",
    "    executeCommand(command, int(amount), sourcestack, destinationstack)\n",
    "\n",
    "print(stack1[0], stack2[0], stack3[0], stack4[0],\n",
    "      stack5[0], stack6[0], stack7[0], stack8[0], stack9[0])\n"
   ]
  },
  {
   "cell_type": "code",
   "execution_count": null,
   "metadata": {},
   "outputs": [],
   "source": []
  }
 ],
 "metadata": {
  "kernelspec": {
   "display_name": "Python 3.11.0 64-bit",
   "language": "python",
   "name": "python3"
  },
  "language_info": {
   "codemirror_mode": {
    "name": "ipython",
    "version": 3
   },
   "file_extension": ".py",
   "mimetype": "text/x-python",
   "name": "python",
   "nbconvert_exporter": "python",
   "pygments_lexer": "ipython3",
   "version": "3.11.0"
  },
  "orig_nbformat": 4,
  "vscode": {
   "interpreter": {
    "hash": "8e7d73baf873fcb0544d9d5961aca3d5ca742b8a85bb33ce7f6f853e6b1187f4"
   }
  }
 },
 "nbformat": 4,
 "nbformat_minor": 2
}
